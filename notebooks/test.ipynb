{
 "cells": [
  {
   "cell_type": "code",
   "execution_count": 1,
   "metadata": {},
   "outputs": [
    {
     "name": "stdout",
     "output_type": "stream",
     "text": [
      "Collecting numpy\n",
      "  Downloading numpy-2.2.3-cp311-cp311-win_amd64.whl.metadata (60 kB)\n",
      "Downloading numpy-2.2.3-cp311-cp311-win_amd64.whl (12.9 MB)\n",
      "   ---------------------------------------- 0.0/12.9 MB ? eta -:--:--\n",
      "   ---- ----------------------------------- 1.3/12.9 MB 8.4 MB/s eta 0:00:02\n",
      "   --------- ------------------------------ 3.1/12.9 MB 8.8 MB/s eta 0:00:02\n",
      "   ---------------- ----------------------- 5.2/12.9 MB 9.4 MB/s eta 0:00:01\n",
      "   ---------------------- ----------------- 7.3/12.9 MB 9.4 MB/s eta 0:00:01\n",
      "   --------------------------- ------------ 8.9/12.9 MB 9.2 MB/s eta 0:00:01\n",
      "   ---------------------------------- ----- 11.0/12.9 MB 9.3 MB/s eta 0:00:01\n",
      "   ---------------------------------------  12.8/12.9 MB 9.3 MB/s eta 0:00:01\n",
      "   ---------------------------------------- 12.9/12.9 MB 9.0 MB/s eta 0:00:00\n",
      "Installing collected packages: numpy\n",
      "Successfully installed numpy-2.2.3\n",
      "Note: you may need to restart the kernel to use updated packages.\n"
     ]
    }
   ],
   "source": [
    "pip install numpy"
   ]
  },
  {
   "cell_type": "code",
   "execution_count": 2,
   "metadata": {},
   "outputs": [],
   "source": [
    "import numpy as np"
   ]
  },
  {
   "cell_type": "code",
   "execution_count": 4,
   "metadata": {},
   "outputs": [
    {
     "name": "stdout",
     "output_type": "stream",
     "text": [
      "i = 0 || value = 2\n",
      "i = 1 || value = 4\n",
      "i = 2 || value = 6\n",
      "i = 3 || value = 8\n",
      "i = 4 || value = 10\n",
      "i = 5 || value = 12\n",
      "i = 6 || value = 14\n",
      "i = 7 || value = 16\n",
      "i = 8 || value = 18\n",
      "i = 9 || value = 20\n"
     ]
    }
   ],
   "source": [
    "lista = np.array([2,4,6,8,10,12,14,16,18,20])\n",
    "\n",
    "for i, value in enumerate(lista):\n",
    "    print(f\"i = {i} || value = {value}\")"
   ]
  },
  {
   "cell_type": "code",
   "execution_count": 6,
   "metadata": {},
   "outputs": [
    {
     "name": "stdout",
     "output_type": "stream",
     "text": [
      "i = 0 || value = [1 2 3]\n",
      "i = 1 || value = [4 5 6]\n",
      "i = 2 || value = [7 8 9]\n"
     ]
    }
   ],
   "source": [
    "matriz = np.array([[1,2,3], [4,5,6], [7,8,9]])\n",
    "\n",
    "for i, value in enumerate(matriz):\n",
    "    print(f\"i = {i} || value = {value}\")"
   ]
  }
 ],
 "metadata": {
  "kernelspec": {
   "display_name": ".venv",
   "language": "python",
   "name": "python3"
  },
  "language_info": {
   "codemirror_mode": {
    "name": "ipython",
    "version": 3
   },
   "file_extension": ".py",
   "mimetype": "text/x-python",
   "name": "python",
   "nbconvert_exporter": "python",
   "pygments_lexer": "ipython3",
   "version": "3.11.9"
  }
 },
 "nbformat": 4,
 "nbformat_minor": 2
}
